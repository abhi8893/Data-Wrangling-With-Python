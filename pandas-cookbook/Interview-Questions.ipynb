{
 "cells": [
  {
   "cell_type": "markdown",
   "metadata": {},
   "source": [
    "# Interview questions "
   ]
  },
  {
   "cell_type": "markdown",
   "metadata": {},
   "source": [
    "# Make a column cleaner class\n",
    "\n",
    "- Cleaning column names such that we can use the dot notation\n",
    "- Functionaity to revert to original names\n",
    "- Clean -> trim_whitspace, lower case"
   ]
  },
  {
   "cell_type": "code",
   "execution_count": 2,
   "metadata": {},
   "outputs": [],
   "source": [
    "class ColumnNameCleaner:\n",
    "    \n",
    "    def __init__(self, trim_wspace=True, wspace_replacer='_', lower=False):\n",
    "        self.trim_wspace = trim_wspace\n",
    "        self.lower = lower\n",
    "        self.wspace_replacer = wspace_replacer\n",
    "        \n",
    "    def clean(self, cols):\n",
    "        clean_cols = []\n",
    "        for col in cols:\n",
    "            if self.trim_wspace:\n",
    "                col = self._trim_wspace(col)\n",
    "                \n",
    "            if self.wspace_replacer is not None:\n",
    "                col = self._wspace_replacer(col, self.wspace_replacer)\n",
    "            \n",
    "            if self.lower:\n",
    "                col = self._lower(col)\n",
    "                \n",
    "        \n",
    "            clean_cols.append(col)\n",
    "            \n",
    "        return clean_cols\n",
    "            \n",
    "    @staticmethod    \n",
    "    def _trim_wspace(s):\n",
    "        return s.strip()\n",
    "    \n",
    "    @staticmethod\n",
    "    def _wspace_replacer(s, repl):\n",
    "        return s.replace(' ', repl)\n",
    "    \n",
    "    \n",
    "    @staticmethod \n",
    "    def _lower(s):\n",
    "        return s.lower()\n",
    "    \n",
    "col_clnr = ColumnNameCleaner(lower=True)"
   ]
  },
  {
   "cell_type": "code",
   "execution_count": 5,
   "metadata": {},
   "outputs": [],
   "source": [
    "cols = [' Id', 'Name of the Customer', 'Loan Id ']\n",
    "\n",
    "assert col_clnr.clean(cols) == ['id', 'name_of_the_customer', 'loan_id']"
   ]
  },
  {
   "cell_type": "markdown",
   "metadata": {},
   "source": [
    "# Matching a string pattern in a numpy array\n",
    "\n",
    "- Match a particular pattern and pick out the elements from a numpy array\n",
    "- Must not involve pandas series conversion\n",
    "- Compare the times for loop vs np.vectorize - Which is faster? Why?\n"
   ]
  },
  {
   "cell_type": "code",
   "execution_count": null,
   "metadata": {},
   "outputs": [],
   "source": [
    "import numpy as np\n",
    "\n",
    "@np.vectorize\n",
    "def pattern_matcher(s):\n",
    "    if 'x' in s:\n",
    "        return True\n",
    "    \n",
    "    return False"
   ]
  },
  {
   "cell_type": "code",
   "execution_count": 9,
   "metadata": {},
   "outputs": [
    {
     "data": {
      "text/plain": [
       "array(['bx', 'xxa'], dtype='<U3')"
      ]
     },
     "execution_count": 9,
     "metadata": {},
     "output_type": "execute_result"
    }
   ],
   "source": [
    "arr = np.array(['ab', 'bx', 'cas', 'xxa'])\n",
    "match = pattern_matcher(arr)\n",
    "arr[match]    "
   ]
  },
  {
   "cell_type": "code",
   "execution_count": 13,
   "metadata": {},
   "outputs": [],
   "source": [
    "map_res = map(lambda x: x + '0', arr)"
   ]
  }
 ],
 "metadata": {
  "kernelspec": {
   "display_name": "Python 3",
   "language": "python",
   "name": "python3"
  },
  "language_info": {
   "codemirror_mode": {
    "name": "ipython",
    "version": 3
   },
   "file_extension": ".py",
   "mimetype": "text/x-python",
   "name": "python",
   "nbconvert_exporter": "python",
   "pygments_lexer": "ipython3",
   "version": "3.8.3"
  }
 },
 "nbformat": 4,
 "nbformat_minor": 4
}
